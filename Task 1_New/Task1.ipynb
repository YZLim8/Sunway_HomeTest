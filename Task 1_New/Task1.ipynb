{
 "cells": [
  {
   "cell_type": "code",
   "execution_count": 6,
   "id": "3d4b0c8e",
   "metadata": {},
   "outputs": [],
   "source": [
    "import cv2\n",
    "import numpy as np"
   ]
  },
  {
   "cell_type": "code",
   "execution_count": 35,
   "id": "c0a39ed2",
   "metadata": {},
   "outputs": [],
   "source": [
    "video_path = 'CCTV_TopDown.mp4'\n",
    "cap = cv2.VideoCapture(video_path)"
   ]
  },
  {
   "cell_type": "code",
   "execution_count": 36,
   "id": "7405357e",
   "metadata": {},
   "outputs": [],
   "source": [
    "if cap.isOpened():\n",
    "    print(\"yes, no error\")\n"
   ]
  },
  {
   "cell_type": "code",
   "execution_count": 37,
   "id": "da82526d",
   "metadata": {},
   "outputs": [],
   "source": [
    "def preprocess_frame(frame):\n",
    "    # Resize frame for faster processing\n",
    "    frame_resized = cv2.resize(frame, (640, 480))\n",
    "    return frame_resized\n",
    "\n",
    "ret, frame = cap.read()\n",
    "if ret:\n",
    "    preprocessed_frame = preprocess_frame(frame)"
   ]
  },
  {
   "cell_type": "markdown",
   "id": "2ef79c50",
   "metadata": {},
   "source": [
    "### Import Yolov5"
   ]
  },
  {
   "cell_type": "code",
   "execution_count": 11,
   "id": "a1da52d8",
   "metadata": {},
   "outputs": [
    {
     "name": "stderr",
     "output_type": "stream",
     "text": [
      "Using cache found in C:\\Users\\Acer/.cache\\torch\\hub\\ultralytics_yolov5_master\n",
      "YOLOv5  2024-8-29 Python-3.8.8 torch-2.3.1+cpu CPU\n",
      "\n",
      "Fusing layers... \n",
      "YOLOv5s summary: 213 layers, 7225885 parameters, 0 gradients, 16.4 GFLOPs\n",
      "Adding AutoShape... \n"
     ]
    }
   ],
   "source": [
    "import torch\n",
    "\n",
    "# Load the YOLOv5 model from the Ultralytics repository\n",
    "model = torch.hub.load('ultralytics/yolov5', 'yolov5s')\n",
    "\n",
    "# Optionally set a higher confidence threshold\n",
    "model.conf = 0.5"
   ]
  },
  {
   "cell_type": "code",
   "execution_count": 38,
   "id": "620dd650",
   "metadata": {},
   "outputs": [],
   "source": [
    "def detect_vehicles(frame):\n",
    "    # Perform vehicle detection\n",
    "    results = model(frame)\n",
    "    \n",
    "    # Filter results to keep only vehicles (car, truck, bus, etc.)\n",
    "    vehicle_classes = [2, 3, 5, 7]\n",
    "    \n",
    "    # Get the detections in [x1, y1, x2, y2, confidence, class] format\n",
    "    detections = results.xyxy[0]\n",
    "    \n",
    "    # Filter out non-vehicle detections\n",
    "    mask = detections[:, -1].cpu().numpy().astype(int)\n",
    "    filtered_mask = [i for i, cls in enumerate(mask) if cls in vehicle_classes]\n",
    "    \n",
    "    # Apply the filter to the results object\n",
    "    results.xyxy[0] = detections[filtered_mask]\n",
    "    \n",
    "    return results"
   ]
  },
  {
   "cell_type": "code",
   "execution_count": 25,
   "id": "9b925371",
   "metadata": {},
   "outputs": [],
   "source": [
    "results = detect_vehicles(preprocessed_frame)"
   ]
  },
  {
   "cell_type": "code",
   "execution_count": 16,
   "id": "f93bb1c4",
   "metadata": {},
   "outputs": [
    {
     "name": "stderr",
     "output_type": "stream",
     "text": [
      "fatal: destination path 'sort' already exists and is not an empty directory.\n"
     ]
    }
   ],
   "source": [
    "!git clone https://github.com/abewley/sort.git"
   ]
  },
  {
   "cell_type": "code",
   "execution_count": 14,
   "id": "ae453637",
   "metadata": {},
   "outputs": [
    {
     "name": "stdout",
     "output_type": "stream",
     "text": [
      "C:\\Users\\Acer\\Desktop\\Sunway\\Task1\\sort\n"
     ]
    }
   ],
   "source": [
    "cd sort"
   ]
  },
  {
   "cell_type": "code",
   "execution_count": 15,
   "id": "2105aa00",
   "metadata": {},
   "outputs": [],
   "source": [
    "import sys\n",
    "sys.path.append('sort')"
   ]
  },
  {
   "cell_type": "code",
   "execution_count": 16,
   "id": "30e78d81",
   "metadata": {},
   "outputs": [],
   "source": [
    "from sort import Sort"
   ]
  },
  {
   "cell_type": "code",
   "execution_count": 26,
   "id": "a29c1675",
   "metadata": {},
   "outputs": [],
   "source": [
    "# Initialize SORT tracker\n",
    "tracker = Sort()"
   ]
  },
  {
   "cell_type": "code",
   "execution_count": 27,
   "id": "a8612bfa",
   "metadata": {},
   "outputs": [],
   "source": [
    "def track_vehicles(results):\n",
    "    detections = []\n",
    "    for result in results:\n",
    "        x1, y1, x2, y2, conf, cls = result\n",
    "        detections.append([x1, y1, x2, y2, conf])\n",
    "\n",
    "    # Update tracker with current frame detections\n",
    "    tracks = tracker.update(np.array(detections))\n",
    "    return tracks\n",
    "\n",
    "#tracks = track_vehicles(results.xyxy[0].numpy())"
   ]
  },
  {
   "cell_type": "code",
   "execution_count": 39,
   "id": "86f30ec9",
   "metadata": {},
   "outputs": [],
   "source": [
    "def count_vehicles(tracks, line_position=300):\n",
    "    vehicle_count = 0\n",
    "    for track in tracks:\n",
    "        x1, y1, x2, y2, track_id = track\n",
    "        if y1 < line_position < y2:\n",
    "            vehicle_count += 1\n",
    "            # Mark this vehicle as counted\n",
    "            # (implement additional logic if needed)\n",
    "    return vehicle_count\n",
    "\n",
    "#vehicle_count = count_vehicles(tracks)"
   ]
  },
  {
   "cell_type": "code",
   "execution_count": 40,
   "id": "cb69feb7",
   "metadata": {},
   "outputs": [],
   "source": [
    "def display_results(frame, tracks, vehicle_count):\n",
    "    for track in tracks:\n",
    "        x1, y1, x2, y2, track_id = track\n",
    "        cv2.rectangle(frame, (int(x1), int(y1)), (int(x2), int(y2)), (0, 255, 0), 2)\n",
    "        cv2.putText(frame, f'ID: {int(track_id)}', (int(x1), int(y1)-10), cv2.FONT_HERSHEY_SIMPLEX, 0.6, (255, 0, 0), 2)\n",
    "    \n",
    "    # Display the vehicle count\n",
    "    cv2.putText(frame, f'Vehicle Count: {vehicle_count}', (50, 50), cv2.FONT_HERSHEY_SIMPLEX, 1, (0, 255, 0), 2)\n",
    "\n",
    "    # Show the frame\n",
    "    cv2.imshow('Frame', frame)\n"
   ]
  },
  {
   "cell_type": "code",
   "execution_count": 42,
   "id": "f75aac99",
   "metadata": {},
   "outputs": [],
   "source": [
    "while cap.isOpened():\n",
    "    ret, frame = cap.read()\n",
    "    if not ret:\n",
    "        break\n",
    "\n",
    "    # Preprocess, detect, track, and count\n",
    "    preprocessed_frame = preprocess_frame(frame)\n",
    "    results = detect_vehicles(preprocessed_frame)\n",
    "    tracks = track_vehicles(results.xyxy[0].numpy())\n",
    "    vehicle_count = count_vehicles(tracks)\n",
    "\n",
    "    # Display results\n",
    "    display_results(preprocessed_frame, tracks, vehicle_count)\n",
    "\n",
    "    # Break the loop if 'q' is pressed\n",
    "    if cv2.waitKey(1) & 0xFF == ord('q'):\n",
    "        break\n",
    "\n",
    "cap.release()\n",
    "cv2.destroyAllWindows()"
   ]
  },
  {
   "cell_type": "code",
   "execution_count": null,
   "id": "3773d744",
   "metadata": {},
   "outputs": [],
   "source": []
  }
 ],
 "metadata": {
  "kernelspec": {
   "display_name": "Python 3",
   "language": "python",
   "name": "python3"
  },
  "language_info": {
   "codemirror_mode": {
    "name": "ipython",
    "version": 3
   },
   "file_extension": ".py",
   "mimetype": "text/x-python",
   "name": "python",
   "nbconvert_exporter": "python",
   "pygments_lexer": "ipython3",
   "version": "3.8.8"
  }
 },
 "nbformat": 4,
 "nbformat_minor": 5
}
